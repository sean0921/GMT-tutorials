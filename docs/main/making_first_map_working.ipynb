{
 "cells": [
  {
   "cell_type": "markdown",
   "id": "6c825135-1ca8-43ef-8fbc-77817aaae2ab",
   "metadata": {
    "kernel": "SoS"
   },
   "source": [
    "# Temp tilte\n",
    "\n",
    "First two tabs showing off defining a function.\n",
    "\n",
    "````{tab} Python\n",
    "```python\n",
    "def main():\n",
    "    return\n",
    "```\n",
    "````\n",
    "````{tab} C++\n",
    "```c++\n",
    "int main(const int argc, const char **argv) {\n",
    "  return 0;\n",
    "}\n",
    "```\n",
    "````\n",
    "\n",
    "Second two tabs showing off printing.\n",
    "\n",
    "````{tab} Python\n",
    "```python\n",
    "print(\"Hello World!\")\n",
    "```\n",
    "````\n",
    "\n",
    "````{tab} C++\n",
    "```c++\n",
    "#include <iostream>\n",
    "\n",
    "int main() {\n",
    "  std::cout << \"Hello World!\" << std::endl;\n",
    "}\n",
    "```\n",
    "````"
   ]
  },
  {
   "cell_type": "code",
   "execution_count": 1,
   "id": "33875a2f-c3aa-4c7b-8b5b-4177fd8d9e25",
   "metadata": {
    "kernel": "Calysto Bash"
   },
   "outputs": [
    {
     "name": "stdout",
     "output_type": "stream",
     "text": [
      "\n"
     ]
    }
   ],
   "source": [
    "are=\"rre\""
   ]
  },
  {
   "cell_type": "code",
   "execution_count": 2,
   "id": "591b2293-b167-4bcf-aa47-3db8ac6bea2b",
   "metadata": {
    "kernel": "Calysto Bash"
   },
   "outputs": [
    {
     "name": "stdout",
     "output_type": "stream",
     "text": [
      "rre\n",
      "\n"
     ]
    }
   ],
   "source": [
    "echo $are"
   ]
  },
  {
   "cell_type": "code",
   "execution_count": 1,
   "id": "e7583bc4-acdd-408f-8c95-1599565197d3",
   "metadata": {
    "kernel": "Calysto Bash"
   },
   "outputs": [],
   "source": [
    "def g(x):\n",
    "   return 2\n"
   ]
  },
  {
   "cell_type": "code",
   "execution_count": 1,
   "id": "a1c18b75-08ee-4d48-ab6c-d3fc56c3d6b0",
   "metadata": {
    "kernel": "Calysto Bash"
   },
   "outputs": [
    {
     "name": "stdout",
     "output_type": "stream",
     "text": [
      "/bin/bash\n",
      "\n"
     ]
    }
   ],
   "source": [
    "echo $SHELL"
   ]
  },
  {
   "cell_type": "code",
   "execution_count": null,
   "id": "b51a872a-70db-43f6-8dc5-ac5a58aa6d00",
   "metadata": {
    "kernel": "SoS"
   },
   "outputs": [],
   "source": []
  },
  {
   "cell_type": "code",
   "execution_count": null,
   "id": "7512bd9f-c970-490b-86ea-e8d68ed191c2",
   "metadata": {
    "kernel": "SoS"
   },
   "outputs": [],
   "source": []
  }
 ],
 "metadata": {
  "kernelspec": {
   "display_name": "Calysto Bash",
   "language": "bash",
   "name": "calysto_bash"
  },
  "language_info": {
   "file_extension": ".sh",
   "help_links": [
    {
     "text": "MetaKernel Magics",
     "url": "https://metakernel.readthedocs.io/en/latest/source/README.html"
    }
   ],
   "mimetype": "text/x-sh",
   "name": "bash",
   "version": "0.2.2"
  },
  "sos": {
   "kernels": [
    [
     "Calysto Bash",
     "calysto_bash",
     "bash",
     "",
     ""
    ],
    [
     "SoS",
     "sos",
     "",
     "",
     "sos"
    ]
   ],
   "panel": {
    "displayed": true,
    "height": 0
   },
   "version": "0.23.3"
  },
  "toc-autonumbering": true,
  "toc-showcode": true,
  "toc-showmarkdowntxt": false,
  "toc-showtags": false
 },
 "nbformat": 4,
 "nbformat_minor": 5
}
